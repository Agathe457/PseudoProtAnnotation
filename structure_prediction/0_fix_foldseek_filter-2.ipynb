{
 "cells": [
  {
   "attachments": {},
   "cell_type": "markdown",
   "id": "372cdf31-aee8-47c9-85d6-b62be1fc290f",
   "metadata": {},
   "source": [
    "### Fixing FoldSeek default filters\n",
    "\n",
    "1. Read in FoldSeek files for each protein\n",
    "2. Filter by Evalue, throw out those with E-values > 0.001\n",
    "3. Apply functions & store newly filtered FoldSeek files \n",
    "\n",
    "### Requires:\n",
    "* FoldSeek structure comparisons generated during viral acetyltransferase search, stored in Desktop/phage_annotation_input/structure_comparison:\n",
    "    * in each folder batch_XX with XX a batch number between 0 and 34:\n",
    "        * PROTEIN_relaxed.pdb / PROTEIN_best.pdb : copy of relaxed (if available, otherwise best) AlphaFold predicted structure for PROTEIN\n",
    "        * data_foldseek_5.csv : comma seperated input file to fill in the job script with array tools, each row contains info on 5 proteins, listing for each protein consecutively (i) the input protein structure file name, (ii-iii) and the file name of the 2 FoldSeek output files for the input. protein\n",
    "        * script_foldseek_5.slurm : SLURM job script for the FoldSeek job (optimized for KUL cluster)\n",
    "        * FoldSeek output files (see FoldSeek docs for more information on the file format):\n",
    "            * PROTEIN_aln_af50m.txt : output file of the FoldSeek run for PROTEIN against the AlphaFold database\n",
    "            * PROTEIN_aln_pdb.txt : output file of the FoldSeek run for PROTEIN against the PDB databaseslurm-XXXXX.out files : error/output files for the HPC jobs\n",
    "            * PROTEIN_foldseek_af50m_filtered.csv and PROTEIN_foldseek_pdb_filtered.csv : FoldSeek output file against AlphaFold/PDB database for PROTEIN which has been subjected to (i) the addition of the average pLDDT of the aligned region (pLDDT_qAln), and (ii) filtering based on the filters described in the notebook\n",
    "\n",
    "### Generates:\n",
    "* default settings filtered FoldSeek structure comparisons, by filtering out the raw (_aln_) FoldSeek result files on the default E-value cutoff of 0.001:\n",
    "    * in each folder batch_XX with XX a batch number between 0 and 34:\n",
    "        * PROTEIN_foldseek_af50m_default.csv and PROTEIN_foldseek_pdb_default.csv : FoldSeek output file against AlphaFold/PDB database for PROTEIN which has been subjected to E-value filtering"
   ]
  },
  {
   "cell_type": "code",
   "execution_count": 1,
   "id": "6e1a57de-66f3-49e5-8775-56f60d2e558d",
   "metadata": {},
   "outputs": [
    {
     "name": "stdout",
     "output_type": "stream",
     "text": [
      "# This file may be used to create an environment using:\n",
      "# $ conda create --name <env> --file <this file>\n",
      "# platform: linux-64\n",
      "# created-by: conda 24.11.0\n",
      "@EXPLICIT\n",
      "https://repo.anaconda.com/pkgs/main/linux-64/_libgcc_mutex-0.1-main.conda\n",
      "https://repo.anaconda.com/pkgs/main/linux-64/ca-certificates-2024.11.26-h06a4308_0.conda\n",
      "https://repo.anaconda.com/pkgs/main/linux-64/ld_impl_linux-64-2.38-h1181459_1.conda\n",
      "https://repo.anaconda.com/pkgs/main/linux-64/libstdcxx-ng-11.2.0-h1234567_1.conda\n",
      "https://repo.anaconda.com/pkgs/main/noarch/pybind11-abi-5-hd3eb1b0_0.conda\n",
      "https://repo.anaconda.com/pkgs/main/noarch/tzdata-2024a-h04d1e81_0.conda\n",
      "https://repo.anaconda.com/pkgs/main/linux-64/libgomp-11.2.0-h1234567_1.conda\n",
      "https://repo.anaconda.com/pkgs/main/linux-64/_openmp_mutex-5.1-1_gnu.conda\n",
      "https://repo.anaconda.com/pkgs/main/linux-64/libgcc-ng-11.2.0-h1234567_1.conda\n",
      "https://repo.anaconda.com/pkgs/main/linux-64/bzip2-1.0.8-h5eee18b_6.conda\n",
      "https://repo.anaconda.com/pkgs/main/linux-64/c-ares-1.19.1-h5eee18b_0.conda\n",
      "https://repo.anaconda.com/pkgs/main/linux-64/expat-2.6.2-h6a678d5_0.conda\n",
      "https://repo.anaconda.com/pkgs/main/linux-64/fmt-9.1.0-hdb19cb5_1.conda\n",
      "https://repo.anaconda.com/pkgs/main/linux-64/icu-73.1-h6a678d5_0.conda\n",
      "https://repo.anaconda.com/pkgs/main/linux-64/libev-4.33-h7f8727e_1.conda\n",
      "https://repo.anaconda.com/pkgs/main/linux-64/libffi-3.4.4-h6a678d5_1.conda\n",
      "https://repo.anaconda.com/pkgs/main/linux-64/libuuid-1.41.5-h5eee18b_0.conda\n",
      "https://repo.anaconda.com/pkgs/main/linux-64/lz4-c-1.9.4-h6a678d5_1.conda\n",
      "https://repo.anaconda.com/pkgs/main/linux-64/ncurses-6.4-h6a678d5_0.conda\n",
      "https://repo.anaconda.com/pkgs/main/linux-64/openssl-3.0.15-h5eee18b_0.conda\n",
      "https://repo.anaconda.com/pkgs/main/linux-64/reproc-14.2.4-h6a678d5_2.conda\n",
      "https://repo.anaconda.com/pkgs/main/linux-64/xz-5.4.6-h5eee18b_1.conda\n",
      "https://repo.anaconda.com/pkgs/main/linux-64/yaml-cpp-0.8.0-h6a678d5_1.conda\n",
      "https://repo.anaconda.com/pkgs/main/linux-64/zlib-1.2.13-h5eee18b_1.conda\n",
      "https://repo.anaconda.com/pkgs/main/linux-64/libedit-3.1.20230828-h5eee18b_0.conda\n",
      "https://repo.anaconda.com/pkgs/main/linux-64/libnghttp2-1.57.0-h2d74bed_0.conda\n",
      "https://repo.anaconda.com/pkgs/main/linux-64/libssh2-1.11.0-h251f7ec_0.conda\n",
      "https://repo.anaconda.com/pkgs/main/linux-64/libxml2-2.13.1-hfdd30dd_2.conda\n",
      "https://repo.anaconda.com/pkgs/main/linux-64/pcre2-10.42-hebb0a14_1.conda\n",
      "https://repo.anaconda.com/pkgs/main/linux-64/readline-8.2-h5eee18b_0.conda\n",
      "https://repo.anaconda.com/pkgs/main/linux-64/reproc-cpp-14.2.4-h6a678d5_2.conda\n",
      "https://repo.anaconda.com/pkgs/main/linux-64/tk-8.6.14-h39e8969_0.conda\n",
      "https://repo.anaconda.com/pkgs/main/linux-64/zstd-1.5.5-hc292b87_2.conda\n",
      "https://repo.anaconda.com/pkgs/main/linux-64/krb5-1.20.1-h143b758_1.conda\n",
      "https://repo.anaconda.com/pkgs/main/linux-64/libarchive-3.6.2-hfab0078_4.conda\n",
      "https://repo.anaconda.com/pkgs/main/linux-64/libsolv-0.7.24-he621ea3_1.conda\n",
      "https://repo.anaconda.com/pkgs/main/linux-64/sqlite-3.45.3-h5eee18b_0.conda\n",
      "https://repo.anaconda.com/pkgs/main/linux-64/libcurl-8.7.1-h251f7ec_0.conda\n",
      "https://repo.anaconda.com/pkgs/main/linux-64/python-3.12.4-h5148396_1.conda\n",
      "https://repo.anaconda.com/pkgs/main/linux-64/libmamba-1.5.8-hfe524e5_2.conda\n",
      "https://repo.anaconda.com/pkgs/main/linux-64/menuinst-2.1.2-py312h06a4308_0.conda\n",
      "https://repo.anaconda.com/pkgs/main/linux-64/anaconda-anon-usage-0.4.4-py312hfc0e8ea_100.conda\n",
      "https://repo.anaconda.com/pkgs/main/noarch/archspec-0.2.3-pyhd3eb1b0_0.conda\n",
      "https://repo.anaconda.com/pkgs/main/linux-64/boltons-23.0.0-py312h06a4308_0.conda\n",
      "https://repo.anaconda.com/pkgs/main/linux-64/brotli-python-1.0.9-py312h6a678d5_8.conda\n",
      "https://repo.anaconda.com/pkgs/main/linux-64/certifi-2024.8.30-py312h06a4308_0.conda\n",
      "https://repo.anaconda.com/pkgs/main/noarch/charset-normalizer-3.3.2-pyhd3eb1b0_0.conda\n",
      "https://repo.anaconda.com/pkgs/main/linux-64/distro-1.9.0-py312h06a4308_0.conda\n",
      "https://repo.anaconda.com/pkgs/main/linux-64/frozendict-2.4.2-py312h06a4308_0.conda\n",
      "https://repo.anaconda.com/pkgs/main/linux-64/idna-3.7-py312h06a4308_0.conda\n",
      "https://repo.anaconda.com/pkgs/main/noarch/jsonpointer-2.1-pyhd3eb1b0_0.conda\n",
      "https://repo.anaconda.com/pkgs/main/linux-64/libmambapy-1.5.8-py312h2dafd23_2.conda\n",
      "https://repo.anaconda.com/pkgs/main/linux-64/packaging-24.1-py312h06a4308_0.conda\n",
      "https://repo.anaconda.com/pkgs/main/linux-64/platformdirs-3.10.0-py312h06a4308_0.conda\n",
      "https://repo.anaconda.com/pkgs/main/linux-64/pluggy-1.0.0-py312h06a4308_1.conda\n",
      "https://repo.anaconda.com/pkgs/main/linux-64/pycosat-0.6.6-py312h5eee18b_1.conda\n",
      "https://repo.anaconda.com/pkgs/main/noarch/pycparser-2.21-pyhd3eb1b0_0.conda\n",
      "https://repo.anaconda.com/pkgs/main/linux-64/pysocks-1.7.1-py312h06a4308_0.conda\n",
      "https://repo.anaconda.com/pkgs/main/linux-64/ruamel.yaml-0.17.21-py312h5eee18b_0.conda\n",
      "https://repo.anaconda.com/pkgs/main/linux-64/setuptools-72.1.0-py312h06a4308_0.conda\n",
      "https://repo.anaconda.com/pkgs/main/linux-64/tqdm-4.66.4-py312he106c6f_0.conda\n",
      "https://repo.anaconda.com/pkgs/main/linux-64/truststore-0.8.0-py312h06a4308_0.conda\n",
      "https://repo.anaconda.com/pkgs/main/linux-64/wheel-0.43.0-py312h06a4308_0.conda\n",
      "https://repo.anaconda.com/pkgs/main/linux-64/cffi-1.16.0-py312h5eee18b_1.conda\n",
      "https://repo.anaconda.com/pkgs/main/linux-64/jsonpatch-1.33-py312h06a4308_1.conda\n",
      "https://repo.anaconda.com/pkgs/main/linux-64/pip-24.2-py312h06a4308_0.conda\n",
      "https://repo.anaconda.com/pkgs/main/linux-64/urllib3-2.2.2-py312h06a4308_0.conda\n",
      "https://repo.anaconda.com/pkgs/main/linux-64/cryptography-42.0.5-py312hdda0065_1.conda\n",
      "https://repo.anaconda.com/pkgs/main/linux-64/requests-2.32.3-py312h06a4308_0.conda\n",
      "https://repo.anaconda.com/pkgs/main/linux-64/zstandard-0.22.0-py312h2c38b39_0.conda\n",
      "https://repo.anaconda.com/pkgs/main/linux-64/conda-content-trust-0.2.0-py312h06a4308_1.conda\n",
      "https://repo.anaconda.com/pkgs/main/linux-64/conda-package-streaming-0.10.0-py312h06a4308_0.conda\n",
      "https://repo.anaconda.com/pkgs/main/linux-64/conda-package-handling-2.3.0-py312h06a4308_0.conda\n",
      "https://repo.anaconda.com/pkgs/main/linux-64/conda-24.11.0-py312h06a4308_0.conda\n",
      "https://repo.anaconda.com/pkgs/main/noarch/conda-libmamba-solver-24.7.0-pyhd3eb1b0_0.conda\n"
     ]
    }
   ],
   "source": [
    "!conda list --explicit"
   ]
  },
  {
   "cell_type": "code",
   "execution_count": 2,
   "id": "cf5ae9d6-cb09-4370-88f8-00ac43fc118d",
   "metadata": {},
   "outputs": [],
   "source": [
    "# imports\n",
    "import os\n",
    "import pandas as pd"
   ]
  },
  {
   "cell_type": "code",
   "execution_count": 3,
   "id": "d802fa98-f59e-49e6-9a73-281dea5676a4",
   "metadata": {},
   "outputs": [],
   "source": [
    "base_path = \"c_structure_annotation/structure_comp\""
   ]
  },
  {
   "cell_type": "code",
   "execution_count": 8,
   "id": "c4b02246-774b-4542-a12a-eed689a183b9",
   "metadata": {},
   "outputs": [],
   "source": [
    "# Reading in the FoldSeek output files for a specific protein in a batch - code copied from notebook 2_best_hit\n",
    "def read_foldseek_protein(batch, protein):\n",
    "    path_batch = os.path.join(base_path, f\"batch_{batch}\")\n",
    "    pdb_raw = os.path.join(path_batch, f\"{protein}_relaxed_aln_pdb.txt\")\n",
    "    af50m_raw = os.path.join(path_batch, f\"{protein}_relaxed_aln_af50m.txt\")\n",
    "    phold_raw = os.path.join(path_batch, f\"{protein}_relaxed_phold.txt\")\n",
    "    df_pdb_raw = pd.read_table(pdb_raw, header = None, names = [\"query\",\"target\",\"fident\",\"alnlen\",\"mismatch\",\"gapopen\",\"qstart\",\"qend\",\"tstart\",\"tend\",\"evalue\",\"bits\",\"prob\",\"lddt\",\"lddtfull\"])\n",
    "    df_af50m_raw = pd.read_table(af50m_raw, header = None, names = [\"query\",\"target\",\"fident\",\"alnlen\",\"mismatch\",\"gapopen\",\"qstart\",\"qend\",\"tstart\",\"tend\",\"evalue\",\"bits\",\"prob\",\"lddt\",\"lddtfull\"])\n",
    "    df_phold_raw = pd.read_table(phold_raw, header = None, names = [\"query\",\"target\",\"fident\",\"alnlen\",\"mismatch\",\"gapopen\",\"qstart\",\"qend\",\"tstart\",\"tend\",\"evalue\",\"bits\",\"prob\",\"lddt\",\"lddtfull\"])\n",
    "    return df_pdb_raw, df_af50m_raw, df_phold_raw"
   ]
  },
  {
   "cell_type": "code",
   "execution_count": 4,
   "id": "3f7c90df-fc3a-40c4-a8da-c8cb53f36175",
   "metadata": {},
   "outputs": [],
   "source": [
    "# Filter by Evalue, throw out those with E-values > 0.001\n",
    "def filter_foldseek(foldseek_df):\n",
    "    data_filtered = foldseek_df[foldseek_df[\"evalue\"] <= 0.001]\n",
    "    return data_filtered"
   ]
  },
  {
   "cell_type": "code",
   "execution_count": 11,
   "id": "7743143b-700f-4479-be44-e856b31454f1",
   "metadata": {},
   "outputs": [
    {
     "name": "stdout",
     "output_type": "stream",
     "text": [
      "Finished batch_1 FoldSeek hit filtering.\n",
      "Finished batch_2 FoldSeek hit filtering.\n",
      "Finished batch_3 FoldSeek hit filtering.\n",
      "Finished batch_4 FoldSeek hit filtering.\n"
     ]
    }
   ],
   "source": [
    "# Apply functions & store newly filtered FoldSeek files \n",
    "# loop over batches\n",
    "for i in range(1, 5):\n",
    "    batch = f\"batch_{i}\"\n",
    "    path_batch = os.path.join(base_path, batch)\n",
    "    ncbi_proteins = set()\n",
    "    # go over results - extract proteins\n",
    "            \n",
    "    for file in os.listdir(path_batch):\n",
    "        if file.endswith(\".txt\") and \"_relaxed_\" in file:\n",
    "            protein = file.split(\"_relaxed_\")[0]\n",
    "            ncbi_proteins.add(protein)\n",
    "\n",
    "    for protein in list(ncbi_proteins):\n",
    "        # filter out dataframes\n",
    "        pdb_r_filtered = filter_foldseek(read_foldseek_protein(i, protein)[0])\n",
    "        af50m_r_filtered = filter_foldseek(read_foldseek_protein(i, protein)[1])\n",
    "        phold_r_filtered = filter_foldseek(read_foldseek_protein(i, protein)[2])\n",
    "\n",
    "        # store new dataframes\n",
    "        pdb_r_filtered.to_csv(os.path.join(path_batch, f\"{protein}_foldseek_pdb_default.csv\"), index=False) \n",
    "        af50m_r_filtered.to_csv(os.path.join(path_batch, f\"{protein}_foldseek_af50m_default.csv\"), index=False) \n",
    "        phold_r_filtered.to_csv(os.path.join(path_batch, f\"{protein}_foldseek_phold_default.csv\"), index=False) \n",
    "\n",
    "    print(f\"Finished {batch} FoldSeek hit filtering.\")"
   ]
  },
  {
   "cell_type": "code",
   "execution_count": 14,
   "id": "0999836e-e6f9-41fd-97ee-33b9de92aa7b",
   "metadata": {},
   "outputs": [
    {
     "name": "stdout",
     "output_type": "stream",
     "text": [
      "Finished batch_5 FoldSeek hit filtering.\n"
     ]
    }
   ],
   "source": [
    "# loop over batches\n",
    "for i in range(5,6):\n",
    "    batch = f\"batch_{i}\"\n",
    "    path_batch = os.path.join(base_path, batch)\n",
    "    ncbi_proteins = set()\n",
    "    # go over results - extract proteins\n",
    "            \n",
    "    for file in os.listdir(path_batch):\n",
    "        if file.endswith(\".txt\") and \"_relaxed_\" in file:\n",
    "            protein = file.split(\"_relaxed_\")[0]\n",
    "            ncbi_proteins.add(protein)\n",
    "\n",
    "    for protein in list(ncbi_proteins):\n",
    "        # filter out dataframes\n",
    "        pdb_r_filtered = filter_foldseek(read_foldseek_protein(i, protein)[0])\n",
    "        af50m_r_filtered = filter_foldseek(read_foldseek_protein(i, protein)[1])\n",
    "        phold_r_filtered = filter_foldseek(read_foldseek_protein(i, protein)[2])\n",
    "\n",
    "        # store new dataframes\n",
    "        pdb_r_filtered.to_csv(os.path.join(path_batch, f\"{protein}_foldseek_pdb_default.csv\"), index=False) \n",
    "        af50m_r_filtered.to_csv(os.path.join(path_batch, f\"{protein}_foldseek_af50m_default.csv\"), index=False) \n",
    "        phold_r_filtered.to_csv(os.path.join(path_batch, f\"{protein}_foldseek_phold_default.csv\"), index=False) \n",
    "\n",
    "    print(f\"Finished {batch} FoldSeek hit filtering.\")"
   ]
  }
 ],
 "metadata": {
  "kernelspec": {
   "display_name": "Python 3 (ipykernel)",
   "language": "python",
   "name": "python3"
  },
  "language_info": {
   "codemirror_mode": {
    "name": "ipython",
    "version": 3
   },
   "file_extension": ".py",
   "mimetype": "text/x-python",
   "name": "python",
   "nbconvert_exporter": "python",
   "pygments_lexer": "ipython3",
   "version": "3.9.5"
  }
 },
 "nbformat": 4,
 "nbformat_minor": 5
}
